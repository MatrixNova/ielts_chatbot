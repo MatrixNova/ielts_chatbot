{
 "cells": [
  {
   "cell_type": "markdown",
   "id": "cebd4917",
   "metadata": {},
   "source": [
    "# Asynchronous Handling"
   ]
  },
  {
   "cell_type": "code",
   "execution_count": 26,
   "id": "6f5e6ea2",
   "metadata": {},
   "outputs": [],
   "source": [
    "import os\n",
    "from celery import Celery\n",
    "from dotenv import load_dotenv"
   ]
  },
  {
   "cell_type": "markdown",
   "id": "599d7445",
   "metadata": {},
   "source": [
    "## Load environmental variables"
   ]
  },
  {
   "cell_type": "code",
   "execution_count": null,
   "id": "7ca345fa",
   "metadata": {},
   "outputs": [
    {
     "name": "stdout",
     "output_type": "stream",
     "text": [
      "Loading successful\n"
     ]
    }
   ],
   "source": [
    "if not load_dotenv(\".env\"):\n",
    "    print(\"An error has occured. Make sure the file exists and is readable\")\n",
    "else:\n",
    "    print(\"Loading successful\")"
   ]
  },
  {
   "cell_type": "markdown",
   "id": "8f4fd303",
   "metadata": {},
   "source": [
    "## Set up Celery Application"
   ]
  },
  {
   "cell_type": "code",
   "execution_count": 28,
   "id": "09285aa2",
   "metadata": {},
   "outputs": [],
   "source": [
    "CELERY_BROKER_URL = os.getenv(\"CELERY_BROKER\")\n",
    "CELERY_BACKEND_RESULT = os.getenv(\"CELERY_BACKEND\")"
   ]
  },
  {
   "cell_type": "code",
   "execution_count": 29,
   "id": "92142599",
   "metadata": {},
   "outputs": [],
   "source": [
    "celery_app = Celery('ielts-chatbot', broker = CELERY_BROKER_URL, backend = CELERY_BACKEND_RESULT)"
   ]
  },
  {
   "cell_type": "markdown",
   "id": "03ead0ad",
   "metadata": {},
   "source": [
    "## Celery app configuration"
   ]
  },
  {
   "cell_type": "code",
   "execution_count": null,
   "id": "02844835",
   "metadata": {},
   "outputs": [],
   "source": [
    "celery_app.conf.update(\n",
    "    task_serializer='json',\n",
    "    accept_content=['json'],\n",
    "    result_serializer='json',\n",
    "    timezone='Asia/Ho_Chi_Minh', \n",
    "    enable_utc=True,\n",
    "    task_acks_late = True,\n",
    "    worker_prefetch_multiplier = 1,\n",
    ")"
   ]
  },
  {
   "cell_type": "markdown",
   "id": "f63bf976",
   "metadata": {},
   "source": [
    "## Testing"
   ]
  },
  {
   "cell_type": "markdown",
   "id": "d8ee6a48",
   "metadata": {},
   "source": [
    "### Define test task"
   ]
  },
  {
   "cell_type": "code",
   "execution_count": 31,
   "id": "456e75f5",
   "metadata": {},
   "outputs": [],
   "source": [
    "@celery_app.task\n",
    "def add(x, y):\n",
    "    return x + y"
   ]
  },
  {
   "cell_type": "markdown",
   "id": "99dc8afc",
   "metadata": {},
   "source": [
    "### Send the task to the broker (Redis)"
   ]
  },
  {
   "cell_type": "code",
   "execution_count": 32,
   "id": "b004e5b5",
   "metadata": {},
   "outputs": [
    {
     "name": "stdout",
     "output_type": "stream",
     "text": [
      "Task ID:  47b88cef-6b26-4342-8590-3c77d71b5619\n"
     ]
    }
   ],
   "source": [
    "result = add.delay(3, 7)\n",
    "print(\"Task ID: \", result.id)"
   ]
  }
 ],
 "metadata": {
  "kernelspec": {
   "display_name": "Python 3",
   "language": "python",
   "name": "python3"
  },
  "language_info": {
   "codemirror_mode": {
    "name": "ipython",
    "version": 3
   },
   "file_extension": ".py",
   "mimetype": "text/x-python",
   "name": "python",
   "nbconvert_exporter": "python",
   "pygments_lexer": "ipython3",
   "version": "3.12.6"
  }
 },
 "nbformat": 4,
 "nbformat_minor": 5
}
