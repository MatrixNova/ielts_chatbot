{
 "cells": [
  {
   "cell_type": "markdown",
   "id": "06de36dd",
   "metadata": {},
   "source": [
    "# Storing Chat log History "
   ]
  },
  {
   "cell_type": "code",
   "execution_count": 12,
   "id": "9b9c845b",
   "metadata": {},
   "outputs": [],
   "source": [
    "import os\n",
    "from pymongo.mongo_client import MongoClient\n",
    "from pymongo.server_api import ServerApi\n",
    "from dotenv import load_dotenv\n",
    "from datetime import datetime, timezone"
   ]
  },
  {
   "cell_type": "markdown",
   "id": "f71008e2",
   "metadata": {},
   "source": [
    "## Load environmental variables"
   ]
  },
  {
   "cell_type": "code",
   "execution_count": null,
   "id": "f89bcfe4",
   "metadata": {},
   "outputs": [
    {
     "name": "stdout",
     "output_type": "stream",
     "text": [
      "Loading successful\n"
     ]
    }
   ],
   "source": [
    "if not load_dotenv(\".env\"):\n",
    "    print(\"An error has occured. Make sure the file exists and is readable\")\n",
    "else:\n",
    "    print(\"Loading successful\")"
   ]
  },
  {
   "cell_type": "markdown",
   "id": "3d2503b3",
   "metadata": {},
   "source": [
    "## Establish connection to MongoDB server"
   ]
  },
  {
   "cell_type": "markdown",
   "id": "ed4b8839",
   "metadata": {},
   "source": [
    "##### Load database connection detail"
   ]
  },
  {
   "cell_type": "code",
   "execution_count": 14,
   "id": "312de34d",
   "metadata": {},
   "outputs": [],
   "source": [
    "def mongodb_connection():\n",
    "    try:\n",
    "        dbname = os.getenv(\"MONGO_DB_NAME\")\n",
    "        password = os.getenv(\"MONGO_DB_PASSWORD\")\n",
    "        uri = os.getenv(\"MONGO_DB_URI\")\n",
    "\n",
    "        if not all([dbname, password, uri]):\n",
    "            print(\"An error has occured. MongoDB connection details not found in environmental variables\")\n",
    "            return None, None\n",
    "        \n",
    "        uri = uri.replace(\"<db_password>\", password)\n",
    "\n",
    "        # Send out a ping to verify connection status with MongoDB\n",
    "        print(\"Establishing connection to MongoDB\")\n",
    "        client = MongoClient(uri, server_api=ServerApi('1'))\n",
    "        client.admin.command('ping')\n",
    "        print(\"Pinged your deployment. You have successfully connected to MongoDB\")\n",
    "\n",
    "        db = client[dbname]\n",
    "        chat_sessions_collection = db['chat_sessions']\n",
    "        print(f\"Accessed database '{dbname}' and collection '{chat_sessions_collection}'.\")\n",
    "\n",
    "    except Exception as e:\n",
    "        print(f\"An error has occured when connecting to MongoDB or accessing collections: {e}\")\n",
    "        if client:\n",
    "            try:\n",
    "                client.close()\n",
    "\n",
    "            except Exception as e:\n",
    "                print(f\"An error has occured when trying to close MongoDB after connection failure: {e}\")\n",
    "                \n",
    "        return None, None\n",
    "    \n",
    "    return client, chat_sessions_collection                   "
   ]
  },
  {
   "cell_type": "markdown",
   "id": "f06da8a0",
   "metadata": {},
   "source": [
    "## Logging messages "
   ]
  },
  {
   "cell_type": "code",
   "execution_count": 15,
   "id": "443a9ae5",
   "metadata": {},
   "outputs": [],
   "source": [
    "def log_messages(mongo_collection, session_ID, role, content, metadata = None):\n",
    "    if mongo_collection is None:\n",
    "        print(\"Cannot log message. MongoDB collection object is not valid\\n\")\n",
    "        return False\n",
    "    \n",
    "    message_doc = {\n",
    "        \"role\": role,\n",
    "        \"content\": content,\n",
    "        \"timestamp\":datetime.now(timezone.utc),\n",
    "        \"metadata\": metadata or {}\n",
    "    }\n",
    "\n",
    "    try:\n",
    "        mongo_collection.update_one(\n",
    "            {\"_id\": session_ID},\n",
    "            {\n",
    "                \"$push\": {\"messages\": message_doc},\n",
    "                \"$setOnInsert\": {\n",
    "                    \"_id\": session_ID,\n",
    "                    \"start_time\": datetime.now(timezone.utc)\n",
    "                }\n",
    "            },\n",
    "\n",
    "            upsert = True\n",
    "        )\n",
    "        return True \n",
    "\n",
    "    except Exception as e:\n",
    "        print(f\"An error has occured logging MongoDB for session {session_ID}: {e}\")\n",
    "        return False"
   ]
  },
  {
   "cell_type": "markdown",
   "id": "fea41890",
   "metadata": {},
   "source": [
    "## Main Execution Block"
   ]
  },
  {
   "cell_type": "code",
   "execution_count": 16,
   "id": "cd56dae1",
   "metadata": {},
   "outputs": [
    {
     "name": "stdout",
     "output_type": "stream",
     "text": [
      "Initializing Chatlog History Process\n",
      "Establishing connection to MongoDB\n",
      "Pinged your deployment. You have successfully connected to MongoDB\n",
      "Accessed database 'ielts-chatlog-history' and collection 'Collection(Database(MongoClient(host=['ac-jxwni1i-shard-00-00.t6b6p10.mongodb.net:27017', 'ac-jxwni1i-shard-00-02.t6b6p10.mongodb.net:27017', 'ac-jxwni1i-shard-00-01.t6b6p10.mongodb.net:27017'], document_class=dict, tz_aware=False, connect=True, retrywrites=True, w='majority', appname='ielts-chatlog-history', authsource='admin', replicaset='atlas-telby1-shard-0', tls=True, server_api=<pymongo.server_api.ServerApi object at 0x000002ACD5182A20>), 'ielts-chatlog-history'), 'chat_sessions')'.\n",
      "\n",
      "Logging messages for session: session_abc_123\n",
      "Logged user message successfully.\n",
      "\n",
      "Logging messages for session: session_xyz_789\n",
      "Logged assistant message successfully.\n",
      "\n",
      "Closing MongoDB connection.\n",
      "\n",
      "MongoDB connection has been closed succesfully\n",
      "Chatlog History Process completed\n"
     ]
    }
   ],
   "source": [
    "if __name__ == \"__main__\":\n",
    "    print(\"Initializing Chatlog History Process\")\n",
    "\n",
    "    # Declare globally\n",
    "    client, chat_sessions_collection = mongodb_connection()\n",
    "\n",
    "    # ONLY proceed if MongoDB's client and chat session collection access were successful\n",
    "    if client is not None and chat_sessions_collection is not None:\n",
    "        try:\n",
    "            # Generate example\n",
    "            session_id_1 = \"session_abc_123\"\n",
    "            session_id_2 = \"session_xyz_789\"\n",
    "\n",
    "            print(f\"\\nLogging messages for session: {session_id_1}\")\n",
    "            success1 = log_messages(chat_sessions_collection, session_id_1, \"user\", \"Hello. How does photosynthesis work?\")\n",
    "            if success1: \n",
    "                print(\"Logged user message successfully.\")\n",
    "\n",
    "            print(f\"\\nLogging messages for session: {session_id_2}\")\n",
    "            success2 = log_messages(chat_sessions_collection, session_id_1, \"assistant\", \"Greetings. Photosynthesis is the process where plants use sunlight, water...\", {\"model\": \"gpt-4\"})\n",
    "            if success2: print(\"Logged assistant message successfully.\")\n",
    "\n",
    "        except Exception as e:\n",
    "            print(\"An error has occured during the main execution: {e}\")\n",
    "            print(f\"Error Type: {type(e).__name__}\")\n",
    "        \n",
    "        finally:\n",
    "            if client:\n",
    "                try:\n",
    "                    print(\"\\nClosing MongoDB connection.\")\n",
    "                    client.close()\n",
    "                    print(\"\\nMongoDB connection has been closed succesfully\")\n",
    "\n",
    "                except Exception as e:\n",
    "                    print(\"An error has occured when attempting to close MongoDB connection: {e}\")\n",
    "\n",
    "    else:\n",
    "        print(\"An error has occured. Failure to connect to MongoDB or access chat collections\")\n",
    "\n",
    "    print(\"Chatlog History Process completed\")\n"
   ]
  }
 ],
 "metadata": {
  "kernelspec": {
   "display_name": "Python 3",
   "language": "python",
   "name": "python3"
  },
  "language_info": {
   "codemirror_mode": {
    "name": "ipython",
    "version": 3
   },
   "file_extension": ".py",
   "mimetype": "text/x-python",
   "name": "python",
   "nbconvert_exporter": "python",
   "pygments_lexer": "ipython3",
   "version": "3.12.6"
  }
 },
 "nbformat": 4,
 "nbformat_minor": 5
}
